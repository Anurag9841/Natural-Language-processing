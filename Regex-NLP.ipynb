{
 "cells": [
  {
   "cell_type": "code",
   "execution_count": 1,
   "id": "d2542c0a",
   "metadata": {},
   "outputs": [],
   "source": [
    "import re"
   ]
  },
  {
   "cell_type": "code",
   "execution_count": 2,
   "id": "da3a8ab3",
   "metadata": {},
   "outputs": [],
   "source": [
    "chat1='codebasics: Hello, I am having an issue with my order # 412889912 house owner how are you'\n",
    "chat2='codebasics: I have a problem with my order number 412889912'\n",
    "chat3='codebasics: My order 412889912 is having an issue, I was charged 300$ when online it says 280$'"
   ]
  },
  {
   "cell_type": "code",
   "execution_count": 3,
   "id": "ffc6be25",
   "metadata": {},
   "outputs": [],
   "source": [
    "chat4 = 'codebasics: you ask lot of questions 😠  1235678912, abc@xyz.com,999999999'\n",
    "chat5 = 'codebasics: here it is: (123)-567-8912 ,9999999999, abc@xyz.com'\n",
    "chat6 = 'codebasics: yes, phone: 1235678912 email: abc123@xyz.com'"
   ]
  },
  {
   "cell_type": "code",
   "execution_count": 4,
   "id": "606f6680",
   "metadata": {},
   "outputs": [],
   "source": [
    "list=[chat4,chat5,chat6]"
   ]
  },
  {
   "cell_type": "markdown",
   "id": "5fbbbfb9",
   "metadata": {},
   "source": [
    "## Number matching"
   ]
  },
  {
   "cell_type": "code",
   "execution_count": 5,
   "id": "fee51d75",
   "metadata": {},
   "outputs": [],
   "source": [
    "pattern='\\d{10}|\\(\\d{3}\\)-\\d{3}-\\d{4}'\n",
    "pattern1='\\d{10}'"
   ]
  },
  {
   "cell_type": "code",
   "execution_count": 6,
   "id": "85c5f853",
   "metadata": {},
   "outputs": [
    {
     "data": {
      "text/plain": [
       "['(123)-567-8912', '9999999999']"
      ]
     },
     "execution_count": 6,
     "metadata": {},
     "output_type": "execute_result"
    }
   ],
   "source": [
    "re.findall(pattern,chat5)"
   ]
  },
  {
   "cell_type": "code",
   "execution_count": 7,
   "id": "40b2ae8f",
   "metadata": {},
   "outputs": [
    {
     "data": {
      "text/plain": [
       "['1235678912']"
      ]
     },
     "execution_count": 7,
     "metadata": {},
     "output_type": "execute_result"
    }
   ],
   "source": [
    "re.findall(pattern,chat4)"
   ]
  },
  {
   "cell_type": "code",
   "execution_count": 8,
   "id": "11877cc5",
   "metadata": {},
   "outputs": [
    {
     "data": {
      "text/plain": [
       "['1235678912']"
      ]
     },
     "execution_count": 8,
     "metadata": {},
     "output_type": "execute_result"
    }
   ],
   "source": [
    "re.findall(pattern,chat6)"
   ]
  },
  {
   "cell_type": "markdown",
   "id": "2f1b4e30",
   "metadata": {},
   "source": [
    "## email matching"
   ]
  },
  {
   "cell_type": "code",
   "execution_count": 9,
   "id": "80f81eac",
   "metadata": {},
   "outputs": [],
   "source": [
    "pattern2='[a-zA-Z0-9]*@[a-z]*\\.[a-z]*'"
   ]
  },
  {
   "cell_type": "code",
   "execution_count": 10,
   "id": "402818ea",
   "metadata": {},
   "outputs": [
    {
     "data": {
      "text/plain": [
       "['abc123@xyz.com']"
      ]
     },
     "execution_count": 10,
     "metadata": {},
     "output_type": "execute_result"
    }
   ],
   "source": [
    "re.findall(pattern2,chat6)"
   ]
  },
  {
   "cell_type": "markdown",
   "id": "16c8d233",
   "metadata": {},
   "source": [
    "## order matching"
   ]
  },
  {
   "cell_type": "code",
   "execution_count": 19,
   "id": "eb3f6c1c",
   "metadata": {},
   "outputs": [],
   "source": [
    "pattern3=r'order[^\\d]*(\\d*)'"
   ]
  },
  {
   "cell_type": "code",
   "execution_count": 22,
   "id": "7c321d4e",
   "metadata": {},
   "outputs": [
    {
     "data": {
      "text/plain": [
       "['412889912']"
      ]
     },
     "execution_count": 22,
     "metadata": {},
     "output_type": "execute_result"
    }
   ],
   "source": [
    "re.findall(pattern3,chat3)"
   ]
  },
  {
   "cell_type": "code",
   "execution_count": 23,
   "id": "19d4ae71",
   "metadata": {},
   "outputs": [],
   "source": [
    "text='''\n",
    "Born Elon Reeve Musk\n",
    "June 28, 1971 (age 50)\n",
    "Pretoria, Transvaal, South Africa\n",
    "Citizenship\n",
    "South Africa (1971–present)\n",
    "Canada (1971–present)\n",
    "United States (2002–present)\n",
    "Education University of Pennsylvania (BS, BA)\n",
    "Title\n",
    "Founder, CEO and Chief Engineer of SpaceX\n",
    "CEO and product architect of Tesla, Inc.\n",
    "Founder of The Boring Company and X.com (now part of PayPal)\n",
    "Co-founder of Neuralink, OpenAI, and Zip2\n",
    "Spouse(s)\n",
    "Justine Wilson\n",
    "​\n",
    "​(m. 2000; div. 2008)​\n",
    "Talulah Riley\n",
    "​\n",
    "​(m. 2010; div. 2012)​\n",
    "​\n",
    "​(m. 2013; div. 2016)\n",
    "'''"
   ]
  },
  {
   "cell_type": "markdown",
   "id": "2895f93c",
   "metadata": {},
   "source": [
    "## finding age "
   ]
  },
  {
   "cell_type": "code",
   "execution_count": 30,
   "id": "c7fd3431",
   "metadata": {},
   "outputs": [],
   "source": [
    "pattern4='age[^\\d]*(\\d*)'"
   ]
  },
  {
   "cell_type": "code",
   "execution_count": 31,
   "id": "79e98da1",
   "metadata": {},
   "outputs": [
    {
     "data": {
      "text/plain": [
       "['50']"
      ]
     },
     "execution_count": 31,
     "metadata": {},
     "output_type": "execute_result"
    }
   ],
   "source": [
    "re.findall(pattern4,text)"
   ]
  },
  {
   "cell_type": "markdown",
   "id": "53f41d4f",
   "metadata": {},
   "source": [
    "## birth place"
   ]
  },
  {
   "cell_type": "code",
   "execution_count": 51,
   "id": "bdfd62c2",
   "metadata": {},
   "outputs": [],
   "source": [
    "pattern5='Born(.*)'"
   ]
  },
  {
   "cell_type": "code",
   "execution_count": 53,
   "id": "bb309646",
   "metadata": {},
   "outputs": [],
   "source": [
    "matches=re.findall(pattern5,text)"
   ]
  },
  {
   "cell_type": "code",
   "execution_count": 56,
   "id": "f0879267",
   "metadata": {},
   "outputs": [
    {
     "data": {
      "text/plain": [
       "'Elon Reeve Musk'"
      ]
     },
     "execution_count": 56,
     "metadata": {},
     "output_type": "execute_result"
    }
   ],
   "source": [
    "matches[0].strip()"
   ]
  },
  {
   "cell_type": "code",
   "execution_count": 57,
   "id": "be29b1c0",
   "metadata": {},
   "outputs": [],
   "source": [
    "pattern6=\"Born.*\\n(.*)\\(\""
   ]
  },
  {
   "cell_type": "code",
   "execution_count": 58,
   "id": "6126c014",
   "metadata": {},
   "outputs": [
    {
     "data": {
      "text/plain": [
       "['June 28, 1971 ']"
      ]
     },
     "execution_count": 58,
     "metadata": {},
     "output_type": "execute_result"
    }
   ],
   "source": [
    "re.findall(pattern6,text)"
   ]
  },
  {
   "cell_type": "code",
   "execution_count": 59,
   "id": "98f0a454",
   "metadata": {},
   "outputs": [],
   "source": [
    "pattern7=\"June.*\\n(.*)\""
   ]
  },
  {
   "cell_type": "code",
   "execution_count": 60,
   "id": "0dfe5a06",
   "metadata": {},
   "outputs": [
    {
     "data": {
      "text/plain": [
       "['Pretoria, Transvaal, South Africa']"
      ]
     },
     "execution_count": 60,
     "metadata": {},
     "output_type": "execute_result"
    }
   ],
   "source": [
    "re.findall(pattern7,text)"
   ]
  },
  {
   "cell_type": "code",
   "execution_count": null,
   "id": "84e14120",
   "metadata": {},
   "outputs": [],
   "source": []
  }
 ],
 "metadata": {
  "kernelspec": {
   "display_name": "Python 3 (ipykernel)",
   "language": "python",
   "name": "python3"
  },
  "language_info": {
   "codemirror_mode": {
    "name": "ipython",
    "version": 3
   },
   "file_extension": ".py",
   "mimetype": "text/x-python",
   "name": "python",
   "nbconvert_exporter": "python",
   "pygments_lexer": "ipython3",
   "version": "3.9.12"
  }
 },
 "nbformat": 4,
 "nbformat_minor": 5
}
